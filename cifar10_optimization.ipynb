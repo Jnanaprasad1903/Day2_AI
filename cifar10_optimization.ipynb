{
 "cells": [
  {
   "cell_type": "markdown",
   "id": "13c832f1",
   "metadata": {},
   "source": [
    "Experiment with depth(number of layers)\n",
    "\n",
    "Model 1:\n",
    "Build a model with one hidden layer, and train it\n",
    "Find the vaalidation accuracy.\n",
    "(128)\n",
    "\n",
    "Model 2:\n",
    "Build a model with 3 hidden layers and train it\n",
    "Find the vaalidation accuracy.   \n",
    "(1024,512,256)\n",
    "\n",
    "Model 3:\n",
    "Build a model with 5 hidden layers and \n",
    "Find the vaalidation accuracy\n",
    "(1024,512,256,128,64)\n",
    "\n",
    "\n",
    "plot the vaalidation accuracy for all 3 models in a single plot\n",
    "\n",
    "plot the vaalidation loss for all 3 models"
   ]
  },
  {
   "cell_type": "code",
   "execution_count": 1,
   "id": "77a85b59",
   "metadata": {},
   "outputs": [
    {
     "name": "stdout",
     "output_type": "stream",
     "text": [
      "uint8\n",
      "(50000, 32, 32, 3)\n",
      "(10000, 1)\n",
      "[[[ 59  62  63]\n",
      "  [ 43  46  45]\n",
      "  [ 50  48  43]\n",
      "  ...\n",
      "  [158 132 108]\n",
      "  [152 125 102]\n",
      "  [148 124 103]]\n",
      "\n",
      " [[ 16  20  20]\n",
      "  [  0   0   0]\n",
      "  [ 18   8   0]\n",
      "  ...\n",
      "  [123  88  55]\n",
      "  [119  83  50]\n",
      "  [122  87  57]]\n",
      "\n",
      " [[ 25  24  21]\n",
      "  [ 16   7   0]\n",
      "  [ 49  27   8]\n",
      "  ...\n",
      "  [118  84  50]\n",
      "  [120  84  50]\n",
      "  [109  73  42]]\n",
      "\n",
      " ...\n",
      "\n",
      " [[208 170  96]\n",
      "  [201 153  34]\n",
      "  [198 161  26]\n",
      "  ...\n",
      "  [160 133  70]\n",
      "  [ 56  31   7]\n",
      "  [ 53  34  20]]\n",
      "\n",
      " [[180 139  96]\n",
      "  [173 123  42]\n",
      "  [186 144  30]\n",
      "  ...\n",
      "  [184 148  94]\n",
      "  [ 97  62  34]\n",
      "  [ 83  53  34]]\n",
      "\n",
      " [[177 144 116]\n",
      "  [168 129  94]\n",
      "  [179 142  87]\n",
      "  ...\n",
      "  [216 184 140]\n",
      "  [151 118  84]\n",
      "  [123  92  72]]]\n",
      "***************************\n",
      "before : label is :[6]\n",
      "after : label is :[0. 0. 0. 0. 0. 0. 1. 0. 0. 0.]\n",
      "after : label is :[0. 0. 0. 0. 0. 0. 0. 0. 1. 0.]\n"
     ]
    }
   ],
   "source": [
    "#import libraries\n",
    "import numpy as np\n",
    "from keras.models import Sequential\n",
    "from keras.layers import Dense,Flatten\n",
    "from keras.datasets import cifar10\n",
    "from keras.optimizers import SGD,RMSprop\n",
    "from keras.utils import to_categorical\n",
    "import matplotlib.pyplot as plt\n",
    "\n",
    "#Load the Data\n",
    "(x_train,y_train),(x_test,y_test)=cifar10.load_data()\n",
    "print(x_train.dtype)\n",
    "print(x_train.shape)\n",
    "print(y_test.shape)\n",
    "print(x_train[0])\n",
    "\n",
    "#plt.imshow(x_train[0])\n",
    "#plt.show()\n",
    "print(\"***************************\")\n",
    "#print(f\"label is :{y_train[0]}\")\n",
    "\n",
    "#normalize\n",
    "x_train = x_train.astype('float32')/255.0\n",
    "x_test  = x_test.astype('float32')/255.0\n",
    "\n",
    "#to_categorical\n",
    "print(f\"before : label is :{y_train[0]}\")\n",
    "y_train = to_categorical(y_train)\n",
    "print(f\"after : label is :{y_train[0]}\")\n",
    "print(f\"after : label is :{y_train[100]}\")\n",
    "y_test = to_categorical(y_test)\n",
    "\n"
   ]
  },
  {
   "cell_type": "markdown",
   "id": "8e432229",
   "metadata": {},
   "source": []
  },
  {
   "cell_type": "code",
   "execution_count": 2,
   "id": "b11c108f",
   "metadata": {},
   "outputs": [
    {
     "name": "stderr",
     "output_type": "stream",
     "text": [
      "d:\\Day2_AI\\ai_bootcamp\\lib\\site-packages\\keras\\src\\layers\\reshaping\\flatten.py:37: UserWarning: Do not pass an `input_shape`/`input_dim` argument to a layer. When using Sequential models, prefer using an `Input(shape)` object as the first layer in the model instead.\n",
      "  super().__init__(**kwargs)\n"
     ]
    },
    {
     "name": "stdout",
     "output_type": "stream",
     "text": [
      "Epoch 1/10\n",
      "\u001b[1m625/625\u001b[0m \u001b[32m━━━━━━━━━━━━━━━━━━━━\u001b[0m\u001b[37m\u001b[0m \u001b[1m4s\u001b[0m 5ms/step - accuracy: 0.2992 - loss: 1.9565 - val_accuracy: 0.3446 - val_loss: 1.8799\n",
      "Epoch 2/10\n",
      "\u001b[1m625/625\u001b[0m \u001b[32m━━━━━━━━━━━━━━━━━━━━\u001b[0m\u001b[37m\u001b[0m \u001b[1m3s\u001b[0m 5ms/step - accuracy: 0.3657 - loss: 1.8034 - val_accuracy: 0.3755 - val_loss: 1.7889\n",
      "Epoch 3/10\n",
      "\u001b[1m625/625\u001b[0m \u001b[32m━━━━━━━━━━━━━━━━━━━━\u001b[0m\u001b[37m\u001b[0m \u001b[1m3s\u001b[0m 5ms/step - accuracy: 0.3920 - loss: 1.7367 - val_accuracy: 0.3889 - val_loss: 1.7367\n",
      "Epoch 4/10\n",
      "\u001b[1m625/625\u001b[0m \u001b[32m━━━━━━━━━━━━━━━━━━━━\u001b[0m\u001b[37m\u001b[0m \u001b[1m3s\u001b[0m 5ms/step - accuracy: 0.4095 - loss: 1.6870 - val_accuracy: 0.4018 - val_loss: 1.7050\n",
      "Epoch 5/10\n",
      "\u001b[1m625/625\u001b[0m \u001b[32m━━━━━━━━━━━━━━━━━━━━\u001b[0m\u001b[37m\u001b[0m \u001b[1m3s\u001b[0m 4ms/step - accuracy: 0.4239 - loss: 1.6505 - val_accuracy: 0.4028 - val_loss: 1.7028\n",
      "Epoch 6/10\n",
      "\u001b[1m625/625\u001b[0m \u001b[32m━━━━━━━━━━━━━━━━━━━━\u001b[0m\u001b[37m\u001b[0m \u001b[1m3s\u001b[0m 5ms/step - accuracy: 0.4356 - loss: 1.6148 - val_accuracy: 0.4340 - val_loss: 1.6333\n",
      "Epoch 7/10\n",
      "\u001b[1m625/625\u001b[0m \u001b[32m━━━━━━━━━━━━━━━━━━━━\u001b[0m\u001b[37m\u001b[0m \u001b[1m2s\u001b[0m 4ms/step - accuracy: 0.4459 - loss: 1.5869 - val_accuracy: 0.4323 - val_loss: 1.6266\n",
      "Epoch 8/10\n",
      "\u001b[1m625/625\u001b[0m \u001b[32m━━━━━━━━━━━━━━━━━━━━\u001b[0m\u001b[37m\u001b[0m \u001b[1m3s\u001b[0m 5ms/step - accuracy: 0.4530 - loss: 1.5634 - val_accuracy: 0.4456 - val_loss: 1.5950\n",
      "Epoch 9/10\n",
      "\u001b[1m625/625\u001b[0m \u001b[32m━━━━━━━━━━━━━━━━━━━━\u001b[0m\u001b[37m\u001b[0m \u001b[1m3s\u001b[0m 5ms/step - accuracy: 0.4611 - loss: 1.5435 - val_accuracy: 0.4326 - val_loss: 1.6201\n",
      "Epoch 10/10\n",
      "\u001b[1m625/625\u001b[0m \u001b[32m━━━━━━━━━━━━━━━━━━━━\u001b[0m\u001b[37m\u001b[0m \u001b[1m5s\u001b[0m 5ms/step - accuracy: 0.4664 - loss: 1.5267 - val_accuracy: 0.4500 - val_loss: 1.5852\n"
     ]
    }
   ],
   "source": [
    "model = Sequential()\n",
    "model.add(Flatten(input_shape =(32,32,3)))\n",
    "model.add(Dense(128,'relu'))  #layer containg 128 neuron \n",
    "model.add(Dense(10,'softmax'))       #10 neurons last layer\n",
    "model.compile(optimizer=SGD(learning_rate=0.01),loss='categorical_crossentropy',metrics=['accuracy'])\n",
    "#Train\n",
    "result=model.fit(x_train,y_train,epochs=10,batch_size=64,validation_split=0.2) #64 images are sent each time\n"
   ]
  },
  {
   "cell_type": "code",
   "execution_count": 3,
   "id": "2a1d1ec6",
   "metadata": {},
   "outputs": [
    {
     "name": "stdout",
     "output_type": "stream",
     "text": [
      "\u001b[1m313/313\u001b[0m \u001b[32m━━━━━━━━━━━━━━━━━━━━\u001b[0m\u001b[37m\u001b[0m \u001b[1m1s\u001b[0m 2ms/step - accuracy: 0.4525 - loss: 1.5573\n",
      "test loss:1.5573023557662964\n",
      "test accuracy:0.45249998569488525\n"
     ]
    }
   ],
   "source": [
    "loss,accuracy = model.evaluate(x_test,y_test)\n",
    "print(f\"test loss:{loss}\")\n",
    "print(f\"test accuracy:{accuracy}\")"
   ]
  },
  {
   "cell_type": "markdown",
   "id": "deebe7b7",
   "metadata": {},
   "source": []
  },
  {
   "cell_type": "code",
   "execution_count": 4,
   "id": "24d6322a",
   "metadata": {},
   "outputs": [
    {
     "name": "stdout",
     "output_type": "stream",
     "text": [
      "Epoch 1/10\n",
      "\u001b[1m625/625\u001b[0m \u001b[32m━━━━━━━━━━━━━━━━━━━━\u001b[0m\u001b[37m\u001b[0m \u001b[1m8s\u001b[0m 12ms/step - accuracy: 0.3061 - loss: 1.9331 - val_accuracy: 0.3371 - val_loss: 1.8532\n",
      "Epoch 2/10\n",
      "\u001b[1m625/625\u001b[0m \u001b[32m━━━━━━━━━━━━━━━━━━━━\u001b[0m\u001b[37m\u001b[0m \u001b[1m7s\u001b[0m 12ms/step - accuracy: 0.3846 - loss: 1.7418 - val_accuracy: 0.3965 - val_loss: 1.7110\n",
      "Epoch 3/10\n",
      "\u001b[1m625/625\u001b[0m \u001b[32m━━━━━━━━━━━━━━━━━━━━\u001b[0m\u001b[37m\u001b[0m \u001b[1m7s\u001b[0m 12ms/step - accuracy: 0.4117 - loss: 1.6594 - val_accuracy: 0.4144 - val_loss: 1.6601\n",
      "Epoch 4/10\n",
      "\u001b[1m625/625\u001b[0m \u001b[32m━━━━━━━━━━━━━━━━━━━━\u001b[0m\u001b[37m\u001b[0m \u001b[1m7s\u001b[0m 12ms/step - accuracy: 0.4342 - loss: 1.6011 - val_accuracy: 0.4368 - val_loss: 1.6021\n",
      "Epoch 5/10\n",
      "\u001b[1m625/625\u001b[0m \u001b[32m━━━━━━━━━━━━━━━━━━━━\u001b[0m\u001b[37m\u001b[0m \u001b[1m7s\u001b[0m 11ms/step - accuracy: 0.4505 - loss: 1.5583 - val_accuracy: 0.4196 - val_loss: 1.6225\n",
      "Epoch 6/10\n",
      "\u001b[1m625/625\u001b[0m \u001b[32m━━━━━━━━━━━━━━━━━━━━\u001b[0m\u001b[37m\u001b[0m \u001b[1m7s\u001b[0m 11ms/step - accuracy: 0.4638 - loss: 1.5182 - val_accuracy: 0.4526 - val_loss: 1.5489\n",
      "Epoch 7/10\n",
      "\u001b[1m625/625\u001b[0m \u001b[32m━━━━━━━━━━━━━━━━━━━━\u001b[0m\u001b[37m\u001b[0m \u001b[1m7s\u001b[0m 12ms/step - accuracy: 0.4764 - loss: 1.4871 - val_accuracy: 0.4701 - val_loss: 1.5127\n",
      "Epoch 8/10\n",
      "\u001b[1m625/625\u001b[0m \u001b[32m━━━━━━━━━━━━━━━━━━━━\u001b[0m\u001b[37m\u001b[0m \u001b[1m10s\u001b[0m 12ms/step - accuracy: 0.4859 - loss: 1.4570 - val_accuracy: 0.4630 - val_loss: 1.5207\n",
      "Epoch 9/10\n",
      "\u001b[1m625/625\u001b[0m \u001b[32m━━━━━━━━━━━━━━━━━━━━\u001b[0m\u001b[37m\u001b[0m \u001b[1m7s\u001b[0m 11ms/step - accuracy: 0.4973 - loss: 1.4286 - val_accuracy: 0.4626 - val_loss: 1.5267\n",
      "Epoch 10/10\n",
      "\u001b[1m625/625\u001b[0m \u001b[32m━━━━━━━━━━━━━━━━━━━━\u001b[0m\u001b[37m\u001b[0m \u001b[1m7s\u001b[0m 11ms/step - accuracy: 0.5037 - loss: 1.4038 - val_accuracy: 0.4589 - val_loss: 1.5459\n"
     ]
    }
   ],
   "source": [
    "model_SGD= Sequential()\n",
    "model_SGD.add(Flatten(input_shape =(32,32,3)))\n",
    "model_SGD.add(Dense(1024,'relu'))  #layer containg 1024 neuron \n",
    "model_SGD.add(Dense(512,'relu'))\n",
    "model_SGD.add(Dense(256,'relu'))\n",
    "model_SGD.add(Dense(10,'softmax'))       #10 neurons last layer\n",
    "model_SGD.compile(optimizer=SGD(learning_rate=0.01),loss='categorical_crossentropy',metrics=['accuracy'])\n",
    "#Train\n",
    "result2=model_SGD.fit(x_train,y_train,epochs=10,batch_size=64,validation_split=0.2) #64 images are sent each time\n"
   ]
  },
  {
   "cell_type": "code",
   "execution_count": 5,
   "id": "4d8448df",
   "metadata": {},
   "outputs": [
    {
     "name": "stdout",
     "output_type": "stream",
     "text": [
      "\u001b[1m313/313\u001b[0m \u001b[32m━━━━━━━━━━━━━━━━━━━━\u001b[0m\u001b[37m\u001b[0m \u001b[1m2s\u001b[0m 5ms/step - accuracy: 0.4682 - loss: 1.5055\n",
      "test loss:1.505507469177246\n",
      "test accuracy:0.4681999981403351\n"
     ]
    }
   ],
   "source": [
    "loss,accuracy = model_SGD.evaluate(x_test,y_test)\n",
    "print(f\"test loss:{loss}\")\n",
    "print(f\"test accuracy:{accuracy}\")"
   ]
  },
  {
   "cell_type": "code",
   "execution_count": 6,
   "id": "7d81acc6",
   "metadata": {},
   "outputs": [
    {
     "name": "stdout",
     "output_type": "stream",
     "text": [
      "Epoch 1/10\n",
      "\u001b[1m625/625\u001b[0m \u001b[32m━━━━━━━━━━━━━━━━━━━━\u001b[0m\u001b[37m\u001b[0m \u001b[1m8s\u001b[0m 12ms/step - accuracy: 0.2810 - loss: 1.9860 - val_accuracy: 0.3182 - val_loss: 1.8671\n",
      "Epoch 2/10\n",
      "\u001b[1m625/625\u001b[0m \u001b[32m━━━━━━━━━━━━━━━━━━━━\u001b[0m\u001b[37m\u001b[0m \u001b[1m7s\u001b[0m 12ms/step - accuracy: 0.3670 - loss: 1.7714 - val_accuracy: 0.3713 - val_loss: 1.7404\n",
      "Epoch 3/10\n",
      "\u001b[1m625/625\u001b[0m \u001b[32m━━━━━━━━━━━━━━━━━━━━\u001b[0m\u001b[37m\u001b[0m \u001b[1m7s\u001b[0m 12ms/step - accuracy: 0.3995 - loss: 1.6785 - val_accuracy: 0.4244 - val_loss: 1.6292\n",
      "Epoch 4/10\n",
      "\u001b[1m625/625\u001b[0m \u001b[32m━━━━━━━━━━━━━━━━━━━━\u001b[0m\u001b[37m\u001b[0m \u001b[1m7s\u001b[0m 12ms/step - accuracy: 0.4269 - loss: 1.6108 - val_accuracy: 0.4186 - val_loss: 1.6334\n",
      "Epoch 5/10\n",
      "\u001b[1m625/625\u001b[0m \u001b[32m━━━━━━━━━━━━━━━━━━━━\u001b[0m\u001b[37m\u001b[0m \u001b[1m7s\u001b[0m 12ms/step - accuracy: 0.4447 - loss: 1.5601 - val_accuracy: 0.4201 - val_loss: 1.6176\n",
      "Epoch 6/10\n",
      "\u001b[1m625/625\u001b[0m \u001b[32m━━━━━━━━━━━━━━━━━━━━\u001b[0m\u001b[37m\u001b[0m \u001b[1m7s\u001b[0m 11ms/step - accuracy: 0.4604 - loss: 1.5172 - val_accuracy: 0.4435 - val_loss: 1.5703\n",
      "Epoch 7/10\n",
      "\u001b[1m625/625\u001b[0m \u001b[32m━━━━━━━━━━━━━━━━━━━━\u001b[0m\u001b[37m\u001b[0m \u001b[1m7s\u001b[0m 12ms/step - accuracy: 0.4702 - loss: 1.4843 - val_accuracy: 0.4688 - val_loss: 1.4927\n",
      "Epoch 8/10\n",
      "\u001b[1m625/625\u001b[0m \u001b[32m━━━━━━━━━━━━━━━━━━━━\u001b[0m\u001b[37m\u001b[0m \u001b[1m7s\u001b[0m 12ms/step - accuracy: 0.4832 - loss: 1.4491 - val_accuracy: 0.4497 - val_loss: 1.5440\n",
      "Epoch 9/10\n",
      "\u001b[1m625/625\u001b[0m \u001b[32m━━━━━━━━━━━━━━━━━━━━\u001b[0m\u001b[37m\u001b[0m \u001b[1m7s\u001b[0m 11ms/step - accuracy: 0.4976 - loss: 1.4171 - val_accuracy: 0.4493 - val_loss: 1.5399\n",
      "Epoch 10/10\n",
      "\u001b[1m625/625\u001b[0m \u001b[32m━━━━━━━━━━━━━━━━━━━━\u001b[0m\u001b[37m\u001b[0m \u001b[1m7s\u001b[0m 11ms/step - accuracy: 0.5058 - loss: 1.3889 - val_accuracy: 0.4788 - val_loss: 1.4685\n"
     ]
    }
   ],
   "source": [
    "model_SGD5= Sequential()\n",
    "model_SGD5.add(Flatten(input_shape =(32,32,3)))\n",
    "model_SGD5.add(Dense(1024,'relu'))  #layer containg 1024 neuron \n",
    "model_SGD5.add(Dense(512,'relu'))\n",
    "model_SGD5.add(Dense(256,'relu'))\n",
    "model_SGD5.add(Dense(128,'relu'))\n",
    "model_SGD5.add(Dense(64,'relu'))\n",
    "model_SGD5.add(Dense(10,'softmax'))       #10 neurons last layer\n",
    "model_SGD5.compile(optimizer=SGD(learning_rate=0.01),loss='categorical_crossentropy',metrics=['accuracy'])\n",
    "#Train\n",
    "result3=model_SGD5.fit(x_train,y_train,epochs=10,batch_size=64,validation_split=0.2) #64 images are sent each time"
   ]
  },
  {
   "cell_type": "code",
   "execution_count": 7,
   "id": "2ba91f98",
   "metadata": {},
   "outputs": [
    {
     "name": "stdout",
     "output_type": "stream",
     "text": [
      "\u001b[1m313/313\u001b[0m \u001b[32m━━━━━━━━━━━━━━━━━━━━\u001b[0m\u001b[37m\u001b[0m \u001b[1m2s\u001b[0m 5ms/step - accuracy: 0.4852 - loss: 1.4321\n",
      "test loss:1.4320850372314453\n",
      "test accuracy:0.4851999878883362\n"
     ]
    }
   ],
   "source": [
    "loss,accuracy = model_SGD5.evaluate(x_test,y_test)\n",
    "print(f\"test loss:{loss}\")\n",
    "print(f\"test accuracy:{accuracy}\")"
   ]
  },
  {
   "cell_type": "code",
   "execution_count": null,
   "id": "b5b71fe4",
   "metadata": {},
   "outputs": [],
   "source": [
    "plt.plot(result.history['val_accuracy'],label='1-layer',color='red')\n",
    "plt.plot(result2.history['val_accuracy'],label='3-layer',color='blue')\n",
    "plt.plot(result3.history['val_accuracy'],label='5-layer',color='green')\n",
    "plt.title(\"Val Accuracy of 3 different models\")\n",
    "plt.xlabel(\"Epochs\")\n",
    "plt.ylabel(\"Accuracy\")\n",
    "plt.legend()\n",
    "plt.show()"
   ]
  },
  {
   "cell_type": "code",
   "execution_count": null,
   "id": "46e79f15",
   "metadata": {},
   "outputs": [],
   "source": [
    "plt.plot(result.history['val_loss'],label='1-layer',color='red')\n",
    "plt.plot(result2.history['val_loss'],label='3-layer',color='blue')\n",
    "plt.plot(result3.history['val_loss'],label='5-layer',color='green')\n",
    "plt.title(\"Val loss of 3 different models\")\n",
    "plt.xlabel(\"Epochs\")\n",
    "plt.ylabel(\"loss\")\n",
    "plt.legend()\n",
    "plt.show()"
   ]
  }
 ],
 "metadata": {
  "kernelspec": {
   "display_name": "ai_bootcamp",
   "language": "python",
   "name": "python3"
  },
  "language_info": {
   "codemirror_mode": {
    "name": "ipython",
    "version": 3
   },
   "file_extension": ".py",
   "mimetype": "text/x-python",
   "name": "python",
   "nbconvert_exporter": "python",
   "pygments_lexer": "ipython3",
   "version": "3.10.11"
  }
 },
 "nbformat": 4,
 "nbformat_minor": 5
}
